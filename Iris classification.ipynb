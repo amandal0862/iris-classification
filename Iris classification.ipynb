{
 "cells": [
  {
   "cell_type": "code",
   "execution_count": null,
   "id": "0f58da5b",
   "metadata": {},
   "outputs": [
    {
     "ename": "",
     "evalue": "",
     "output_type": "error",
     "traceback": [
      "\u001b[1;31mRunning cells with 'Python 3.10.5 64-bit' requires ipykernel package.\n",
      "\u001b[1;31mRun the following command to install 'ipykernel' into the Python environment. \n",
      "\u001b[1;31mCommand: 'c:/Python310/python.exe -m pip install ipykernel -U --user --force-reinstall'"
     ]
    }
   ],
   "source": [
    "# Q2 : In iris.csv there are 150 samples containing following features.\n",
    "# •\tSepal Length\n",
    "# •\tSepal Width\n",
    "# •\tPetal Length\n",
    "# •\tPetal Width\n",
    "\n",
    "# Using above 4 features , classify a flower in one of the three categories,\n",
    "# •\tSetosa\n",
    "# •\tVersicolour\n",
    "# •\tVirginica\n",
    "\n",
    "# Apply decision tree and Random forest for this problem  and compare the result"
   ]
  },
  {
   "cell_type": "code",
   "execution_count": 1,
   "id": "dda92bd4",
   "metadata": {},
   "outputs": [],
   "source": [
    "#Import Libraries (pandas and numpy)\n",
    "import numpy as np\n",
    "import pandas as pd"
   ]
  },
  {
   "cell_type": "markdown",
   "id": "ac75f440",
   "metadata": {},
   "source": [
    "# Import Dataset"
   ]
  },
  {
   "cell_type": "code",
   "execution_count": 2,
   "id": "1a13fba0",
   "metadata": {},
   "outputs": [],
   "source": [
    "dataset=pd.read_csv(\"iris.csv\") # Read the dataset using pandas"
   ]
  },
  {
   "cell_type": "code",
   "execution_count": 3,
   "id": "266db575",
   "metadata": {},
   "outputs": [
    {
     "data": {
      "text/html": [
       "<div>\n",
       "<style scoped>\n",
       "    .dataframe tbody tr th:only-of-type {\n",
       "        vertical-align: middle;\n",
       "    }\n",
       "\n",
       "    .dataframe tbody tr th {\n",
       "        vertical-align: top;\n",
       "    }\n",
       "\n",
       "    .dataframe thead th {\n",
       "        text-align: right;\n",
       "    }\n",
       "</style>\n",
       "<table border=\"1\" class=\"dataframe\">\n",
       "  <thead>\n",
       "    <tr style=\"text-align: right;\">\n",
       "      <th></th>\n",
       "      <th>Unnamed: 0</th>\n",
       "      <th>sepal length (cm)</th>\n",
       "      <th>sepal width (cm)</th>\n",
       "      <th>petal length (cm)</th>\n",
       "      <th>petal width (cm)</th>\n",
       "      <th>target</th>\n",
       "      <th>flower_name</th>\n",
       "    </tr>\n",
       "  </thead>\n",
       "  <tbody>\n",
       "    <tr>\n",
       "      <th>0</th>\n",
       "      <td>0</td>\n",
       "      <td>5.1</td>\n",
       "      <td>3.5</td>\n",
       "      <td>1.4</td>\n",
       "      <td>0.2</td>\n",
       "      <td>0</td>\n",
       "      <td>setosa</td>\n",
       "    </tr>\n",
       "    <tr>\n",
       "      <th>1</th>\n",
       "      <td>1</td>\n",
       "      <td>4.9</td>\n",
       "      <td>3.0</td>\n",
       "      <td>1.4</td>\n",
       "      <td>0.2</td>\n",
       "      <td>0</td>\n",
       "      <td>setosa</td>\n",
       "    </tr>\n",
       "    <tr>\n",
       "      <th>2</th>\n",
       "      <td>2</td>\n",
       "      <td>4.7</td>\n",
       "      <td>3.2</td>\n",
       "      <td>1.3</td>\n",
       "      <td>0.2</td>\n",
       "      <td>0</td>\n",
       "      <td>setosa</td>\n",
       "    </tr>\n",
       "    <tr>\n",
       "      <th>3</th>\n",
       "      <td>3</td>\n",
       "      <td>4.6</td>\n",
       "      <td>3.1</td>\n",
       "      <td>1.5</td>\n",
       "      <td>0.2</td>\n",
       "      <td>0</td>\n",
       "      <td>setosa</td>\n",
       "    </tr>\n",
       "    <tr>\n",
       "      <th>4</th>\n",
       "      <td>4</td>\n",
       "      <td>5.0</td>\n",
       "      <td>3.6</td>\n",
       "      <td>1.4</td>\n",
       "      <td>0.2</td>\n",
       "      <td>0</td>\n",
       "      <td>setosa</td>\n",
       "    </tr>\n",
       "  </tbody>\n",
       "</table>\n",
       "</div>"
      ],
      "text/plain": [
       "   Unnamed: 0  sepal length (cm)  sepal width (cm)  petal length (cm)  \\\n",
       "0           0                5.1               3.5                1.4   \n",
       "1           1                4.9               3.0                1.4   \n",
       "2           2                4.7               3.2                1.3   \n",
       "3           3                4.6               3.1                1.5   \n",
       "4           4                5.0               3.6                1.4   \n",
       "\n",
       "   petal width (cm)  target flower_name  \n",
       "0               0.2       0      setosa  \n",
       "1               0.2       0      setosa  \n",
       "2               0.2       0      setosa  \n",
       "3               0.2       0      setosa  \n",
       "4               0.2       0      setosa  "
      ]
     },
     "execution_count": 3,
     "metadata": {},
     "output_type": "execute_result"
    }
   ],
   "source": [
    "dataset.head() # Check the top 5 records of the dataset"
   ]
  },
  {
   "cell_type": "code",
   "execution_count": 4,
   "id": "2ad7f6c1",
   "metadata": {},
   "outputs": [
    {
     "name": "stdout",
     "output_type": "stream",
     "text": [
      "<class 'pandas.core.frame.DataFrame'>\n",
      "RangeIndex: 150 entries, 0 to 149\n",
      "Data columns (total 7 columns):\n",
      " #   Column             Non-Null Count  Dtype  \n",
      "---  ------             --------------  -----  \n",
      " 0   Unnamed: 0         150 non-null    int64  \n",
      " 1   sepal length (cm)  150 non-null    float64\n",
      " 2   sepal width (cm)   150 non-null    float64\n",
      " 3   petal length (cm)  150 non-null    float64\n",
      " 4   petal width (cm)   150 non-null    float64\n",
      " 5   target             150 non-null    int64  \n",
      " 6   flower_name        150 non-null    object \n",
      "dtypes: float64(4), int64(2), object(1)\n",
      "memory usage: 8.3+ KB\n"
     ]
    }
   ],
   "source": [
    "dataset.info() # Get the information about the type of data used in the dataset"
   ]
  },
  {
   "cell_type": "code",
   "execution_count": 5,
   "id": "9357e80b",
   "metadata": {},
   "outputs": [
    {
     "data": {
      "text/plain": [
       "Unnamed: 0           0\n",
       "sepal length (cm)    0\n",
       "sepal width (cm)     0\n",
       "petal length (cm)    0\n",
       "petal width (cm)     0\n",
       "target               0\n",
       "flower_name          0\n",
       "dtype: int64"
      ]
     },
     "execution_count": 5,
     "metadata": {},
     "output_type": "execute_result"
    }
   ],
   "source": [
    "dataset.isnull().sum() # Check if null values(misiing value) is present in the dataset or not"
   ]
  },
  {
   "cell_type": "markdown",
   "id": "7e66b8e2",
   "metadata": {},
   "source": [
    "# Separate the dependent and independent variables"
   ]
  },
  {
   "cell_type": "code",
   "execution_count": 6,
   "id": "ae871084",
   "metadata": {},
   "outputs": [],
   "source": [
    "x=dataset.iloc[:,1:-2].values # Feature variable(independent variable) matrix\n",
    "y=dataset.iloc[:,-2].values # Target variable(dependent variable) vector"
   ]
  },
  {
   "cell_type": "code",
   "execution_count": 7,
   "id": "5390871b",
   "metadata": {},
   "outputs": [],
   "source": [
    "# x"
   ]
  },
  {
   "cell_type": "code",
   "execution_count": 8,
   "id": "1d54911f",
   "metadata": {},
   "outputs": [],
   "source": [
    "# y"
   ]
  },
  {
   "cell_type": "markdown",
   "id": "32ac4b45",
   "metadata": {},
   "source": [
    "# Split the dataset into training and test data"
   ]
  },
  {
   "cell_type": "code",
   "execution_count": 9,
   "id": "38408e08",
   "metadata": {},
   "outputs": [],
   "source": [
    "from sklearn.model_selection import train_test_split # Import train_test_split method from the sklearn package\n",
    "# Divide the dataset into training and test data by providing the test size and random state which decides whether the data should be splitted randomly or not \n",
    "x_train,x_test,y_train,y_test=train_test_split(x,y,test_size=0.2,random_state=1)"
   ]
  },
  {
   "cell_type": "code",
   "execution_count": 10,
   "id": "4308ecc9",
   "metadata": {},
   "outputs": [],
   "source": [
    "# x_train"
   ]
  },
  {
   "cell_type": "code",
   "execution_count": 11,
   "id": "86cea1c4",
   "metadata": {},
   "outputs": [],
   "source": [
    "# x_test"
   ]
  },
  {
   "cell_type": "code",
   "execution_count": 12,
   "id": "ea433562",
   "metadata": {},
   "outputs": [],
   "source": [
    "# y_train"
   ]
  },
  {
   "cell_type": "code",
   "execution_count": 13,
   "id": "566c1641",
   "metadata": {},
   "outputs": [],
   "source": [
    "# y_test"
   ]
  },
  {
   "cell_type": "markdown",
   "id": "3c64acfb",
   "metadata": {},
   "source": [
    "# ***DECISION TREE------***"
   ]
  },
  {
   "cell_type": "markdown",
   "id": "7f28b171",
   "metadata": {},
   "source": [
    "#           Fit the Decision Tree Model"
   ]
  },
  {
   "cell_type": "code",
   "execution_count": 14,
   "id": "e68d177b",
   "metadata": {},
   "outputs": [
    {
     "data": {
      "text/plain": [
       "DecisionTreeClassifier(criterion='entropy')"
      ]
     },
     "execution_count": 14,
     "metadata": {},
     "output_type": "execute_result"
    }
   ],
   "source": [
    "from sklearn.tree import DecisionTreeClassifier # Import the DecisionTreeClassifier class from the sklearn package\n",
    "dt=DecisionTreeClassifier(criterion=\"entropy\")# Create an instance of the class and mention the technique for Attribute selection \n",
    "dt.fit(x_train,y_train)"
   ]
  },
  {
   "cell_type": "markdown",
   "id": "438c5faf",
   "metadata": {},
   "source": [
    "# Predicting the test result"
   ]
  },
  {
   "cell_type": "code",
   "execution_count": 15,
   "id": "5fde95bd",
   "metadata": {},
   "outputs": [],
   "source": [
    "y_pred=dt.predict(x_test)# Predict the values for the test data"
   ]
  },
  {
   "cell_type": "markdown",
   "id": "580f61ac",
   "metadata": {},
   "source": [
    "# Check the Accuracy of the Model"
   ]
  },
  {
   "cell_type": "code",
   "execution_count": 16,
   "id": "927329e6",
   "metadata": {},
   "outputs": [
    {
     "data": {
      "text/plain": [
       "array([[11,  0,  0],\n",
       "       [ 0, 12,  1],\n",
       "       [ 0,  0,  6]], dtype=int64)"
      ]
     },
     "execution_count": 16,
     "metadata": {},
     "output_type": "execute_result"
    }
   ],
   "source": [
    "from sklearn.metrics import confusion_matrix  # Import the confusion_matrix method from the sklearn package\n",
    "confusion_matrix(y_test,y_pred) # Pass the actual values and the predicted values to the confusion_matrix method\n",
    "# From the confusion matrix we got to know that the model predicts 29 corect values from 30 test values"
   ]
  },
  {
   "cell_type": "code",
   "execution_count": 17,
   "id": "31d67141",
   "metadata": {},
   "outputs": [
    {
     "data": {
      "text/plain": [
       "0.9666666666666667"
      ]
     },
     "execution_count": 17,
     "metadata": {},
     "output_type": "execute_result"
    }
   ],
   "source": [
    "from sklearn.metrics import accuracy_score # Import the accuracy_score method from the sklearn package\n",
    "accuracy_score(y_test,y_pred) # Pass the actual values and the predicted values to the accuracy_score method to check the accuracy of the model"
   ]
  },
  {
   "cell_type": "code",
   "execution_count": 18,
   "id": "79c5428a",
   "metadata": {},
   "outputs": [
    {
     "data": {
      "text/plain": [
       "array([0, 1, 1, 0, 2, 1, 2, 0, 0, 2, 1, 0, 2, 1, 1, 0, 1, 1, 0, 0, 1, 1,\n",
       "       2, 0, 2, 1, 0, 0, 1, 2], dtype=int64)"
      ]
     },
     "execution_count": 18,
     "metadata": {},
     "output_type": "execute_result"
    }
   ],
   "source": [
    "y_pred"
   ]
  },
  {
   "cell_type": "code",
   "execution_count": 19,
   "id": "7df7f0c9",
   "metadata": {},
   "outputs": [
    {
     "data": {
      "text/plain": [
       "array([0, 1, 1, 0, 2, 1, 2, 0, 0, 2, 1, 0, 2, 1, 1, 0, 1, 1, 0, 0, 1, 1,\n",
       "       1, 0, 2, 1, 0, 0, 1, 2], dtype=int64)"
      ]
     },
     "execution_count": 19,
     "metadata": {},
     "output_type": "execute_result"
    }
   ],
   "source": [
    "y_test"
   ]
  },
  {
   "cell_type": "markdown",
   "id": "380f5f22",
   "metadata": {},
   "source": [
    "# ***RANDOM FOREST---------***"
   ]
  },
  {
   "cell_type": "markdown",
   "id": "0a8d436c",
   "metadata": {},
   "source": [
    "# Fit the Random Forest model"
   ]
  },
  {
   "cell_type": "code",
   "execution_count": 20,
   "id": "c85b27b2",
   "metadata": {},
   "outputs": [
    {
     "data": {
      "text/plain": [
       "RandomForestClassifier(criterion='entropy', n_estimators=8)"
      ]
     },
     "execution_count": 20,
     "metadata": {},
     "output_type": "execute_result"
    }
   ],
   "source": [
    "from sklearn.ensemble import RandomForestClassifier # Import the RandomForestClassifier from the sklearn package\n",
    "# Create instance of the class and pass no of decision trees that we need in the forest and the technique to be used to select the Attributes for the tree.\n",
    "rfc=RandomForestClassifier(n_estimators=8,criterion=\"entropy\")\n",
    "rfc.fit(x_train,y_train) # Train the model using the training data"
   ]
  },
  {
   "cell_type": "markdown",
   "id": "03b0223e",
   "metadata": {},
   "source": [
    "# Predicting the test result"
   ]
  },
  {
   "cell_type": "code",
   "execution_count": 21,
   "id": "800721f9",
   "metadata": {},
   "outputs": [],
   "source": [
    "y_pred=rfc.predict(x_test)# Predict the values for the test data"
   ]
  },
  {
   "cell_type": "markdown",
   "id": "ec53f37a",
   "metadata": {},
   "source": [
    "# Check the Accuracy of the Model"
   ]
  },
  {
   "cell_type": "code",
   "execution_count": 22,
   "id": "d4265eda",
   "metadata": {},
   "outputs": [
    {
     "data": {
      "text/plain": [
       "array([[11,  0,  0],\n",
       "       [ 0, 12,  1],\n",
       "       [ 0,  0,  6]], dtype=int64)"
      ]
     },
     "execution_count": 22,
     "metadata": {},
     "output_type": "execute_result"
    }
   ],
   "source": [
    "from sklearn.metrics import confusion_matrix# Import the confusion_matrix method from the sklearn package\n",
    "confusion_matrix(y_test,y_pred)# Pass the actual values and the predicted values to the confusion_matrix method\n",
    "# From the confusion matrix we got to know that the model predicts 29 corect values from 30 test values(same as the Decision tree)"
   ]
  },
  {
   "cell_type": "code",
   "execution_count": 23,
   "id": "64a2724c",
   "metadata": {},
   "outputs": [
    {
     "data": {
      "text/plain": [
       "0.9666666666666667"
      ]
     },
     "execution_count": 23,
     "metadata": {},
     "output_type": "execute_result"
    }
   ],
   "source": [
    "from sklearn.metrics import accuracy_score # Import the accuracy_score method from the sklearn package\n",
    "accuracy_score(y_test,y_pred)# Pass the actual values and the predicted values to the accuracy_score method to check the accuracy of the model"
   ]
  },
  {
   "cell_type": "markdown",
   "id": "dd7dcba4",
   "metadata": {},
   "source": [
    "# ***We saw that the accuracy of both the Decision tree and the Random Forest Model are same i.e 96.6%***"
   ]
  }
 ],
 "metadata": {
  "kernelspec": {
   "display_name": "Python 3.10.5 64-bit",
   "language": "python",
   "name": "python3"
  },
  "language_info": {
   "codemirror_mode": {
    "name": "ipython",
    "version": 3
   },
   "file_extension": ".py",
   "mimetype": "text/x-python",
   "name": "python",
   "nbconvert_exporter": "python",
   "pygments_lexer": "ipython3",
   "version": "3.10.5"
  },
  "vscode": {
   "interpreter": {
    "hash": "369f2c481f4da34e4445cda3fffd2e751bd1c4d706f27375911949ba6bb62e1c"
   }
  }
 },
 "nbformat": 4,
 "nbformat_minor": 5
}
